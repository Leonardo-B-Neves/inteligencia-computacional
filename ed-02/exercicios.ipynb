{
  "nbformat": 4,
  "nbformat_minor": 0,
  "metadata": {
    "colab": {
      "provenance": []
    },
    "kernelspec": {
      "name": "python3",
      "display_name": "Python 3"
    },
    "language_info": {
      "name": "python"
    }
  },
  "cells": [
    {
      "cell_type": "code",
      "execution_count": 30,
      "metadata": {
        "id": "4owyP5GxFp1B"
      },
      "outputs": [],
      "source": [
        "from dataclasses import dataclass\n",
        "@dataclass\n",
        "class Aluno:\n",
        "  nome : str\n",
        "  matrícula : int\n",
        "  notas : list[int]\n",
        "\n",
        "  def get_media(self):\n",
        "    return (self.notas[0] + self.notas[1]) / 2\n",
        "  def print(self):\n",
        "    print(self.nome)\n",
        "    print(str(self.get_media()))\n",
        "    print(\"------------------------\")"
      ]
    },
    {
      "cell_type": "code",
      "source": [
        "from random import randint\n",
        "nomes = (\"mario\", \"maria\", \"Helena\", \"Alice\", \"Liz\", \"Benício\", \"Carina\", \"Josué\", \"Laila\", \"Eliza\")\n",
        "alunos : list[Aluno] = []\n",
        "for i in range(10):\n",
        "  alunos.append(Aluno(\n",
        "      matrícula=randint(1, 1000000),\n",
        "      nome=nomes[i],\n",
        "      notas=[randint(0,10), randint(0,10)]\n",
        "  ))"
      ],
      "metadata": {
        "id": "MHazosX3GgGI"
      },
      "execution_count": 34,
      "outputs": []
    },
    {
      "cell_type": "markdown",
      "source": [
        "Imprima o nome e média dos alunos em ordem alfabética."
      ],
      "metadata": {
        "id": "-43se182PpTA"
      }
    },
    {
      "cell_type": "code",
      "source": [
        "def get_nome(aluno):\n",
        "  return aluno.nome\n",
        "alunos.sort(key=get_nome)\n",
        "for item in alunos:\n",
        "  item.print()"
      ],
      "metadata": {
        "colab": {
          "base_uri": "https://localhost:8080/"
        },
        "id": "EyQahAq5Lv-J",
        "outputId": "14f4fb02-476a-4f2e-d146-c39e59216f12"
      },
      "execution_count": 35,
      "outputs": [
        {
          "output_type": "stream",
          "name": "stdout",
          "text": [
            "Alice\n",
            "7.0\n",
            "------------------------\n",
            "Benício\n",
            "7.0\n",
            "------------------------\n",
            "Carina\n",
            "8.0\n",
            "------------------------\n",
            "Eliza\n",
            "1.0\n",
            "------------------------\n",
            "Helena\n",
            "7.5\n",
            "------------------------\n",
            "Josué\n",
            "2.0\n",
            "------------------------\n",
            "Laila\n",
            "7.5\n",
            "------------------------\n",
            "Liz\n",
            "5.5\n",
            "------------------------\n",
            "maria\n",
            "1.0\n",
            "------------------------\n",
            "mario\n",
            "6.0\n",
            "------------------------\n"
          ]
        }
      ]
    },
    {
      "cell_type": "markdown",
      "source": [
        "Imprima o nome e a média dos alunos em ordem decrescente de média."
      ],
      "metadata": {
        "id": "piW_KSuqQHe_"
      }
    },
    {
      "cell_type": "code",
      "source": [
        "def get_media(aluno):\n",
        "  return aluno.get_media()\n",
        "alunos.sort(key=get_media, reverse=True)\n",
        "for item in alunos:\n",
        "  item.print()"
      ],
      "metadata": {
        "colab": {
          "base_uri": "https://localhost:8080/"
        },
        "id": "tNDT92okQLM_",
        "outputId": "009aaf09-2745-47bc-a7b0-22f34b9405b7"
      },
      "execution_count": 37,
      "outputs": [
        {
          "output_type": "stream",
          "name": "stdout",
          "text": [
            "Carina\n",
            "8.0\n",
            "------------------------\n",
            "Helena\n",
            "7.5\n",
            "------------------------\n",
            "Laila\n",
            "7.5\n",
            "------------------------\n",
            "Alice\n",
            "7.0\n",
            "------------------------\n",
            "Benício\n",
            "7.0\n",
            "------------------------\n",
            "mario\n",
            "6.0\n",
            "------------------------\n",
            "Liz\n",
            "5.5\n",
            "------------------------\n",
            "Josué\n",
            "2.0\n",
            "------------------------\n",
            "Eliza\n",
            "1.0\n",
            "------------------------\n",
            "maria\n",
            "1.0\n",
            "------------------------\n"
          ]
        }
      ]
    },
    {
      "cell_type": "markdown",
      "source": [
        "Imprima os 2 alunos com maior média e os 2 alunos com menor média."
      ],
      "metadata": {
        "id": "bhE_Io6TQ5WH"
      }
    },
    {
      "cell_type": "code",
      "source": [
        "print(\"\\nmaiores\\n\")\n",
        "alunos[0].print()\n",
        "alunos[1].print()\n",
        "print(\"\\nmenores\\n\")\n",
        "alunos[8].print()\n",
        "alunos[9].print()"
      ],
      "metadata": {
        "colab": {
          "base_uri": "https://localhost:8080/"
        },
        "id": "8O57zDYMQ-jZ",
        "outputId": "94430403-1fea-41ed-a331-efc33d6ea127"
      },
      "execution_count": 40,
      "outputs": [
        {
          "output_type": "stream",
          "name": "stdout",
          "text": [
            "\n",
            "maiores\n",
            "\n",
            "Carina\n",
            "8.0\n",
            "------------------------\n",
            "Helena\n",
            "7.5\n",
            "------------------------\n",
            "\n",
            "menores\n",
            "\n",
            "Eliza\n",
            "1.0\n",
            "------------------------\n",
            "maria\n",
            "1.0\n",
            "------------------------\n"
          ]
        }
      ]
    },
    {
      "cell_type": "markdown",
      "source": [
        "Calcule a média da turma."
      ],
      "metadata": {
        "id": "WHQ31wo2RkH5"
      }
    },
    {
      "cell_type": "code",
      "source": [
        "soma = 0\n",
        "for item in alunos:\n",
        "  soma += item.get_media()\n",
        "\n",
        "print(\"media \" + str(soma/10))"
      ],
      "metadata": {
        "colab": {
          "base_uri": "https://localhost:8080/"
        },
        "id": "TG1-0TaURk4G",
        "outputId": "4e669795-0321-4999-85a0-649586d94cdc"
      },
      "execution_count": 42,
      "outputs": [
        {
          "output_type": "stream",
          "name": "stdout",
          "text": [
            "media 5.25\n"
          ]
        }
      ]
    },
    {
      "cell_type": "markdown",
      "source": [
        "Imprima todos os alunos que ficaram abaixo da média da turma."
      ],
      "metadata": {
        "id": "eiknjaJMSEOC"
      }
    },
    {
      "cell_type": "code",
      "source": [
        "for item in alunos:\n",
        "  if item.get_media() < 6:\n",
        "    item.print()"
      ],
      "metadata": {
        "colab": {
          "base_uri": "https://localhost:8080/"
        },
        "id": "5OkzFmOPSE2l",
        "outputId": "f66cbb8a-6ac7-419f-dcd4-9b276ea46695"
      },
      "execution_count": 45,
      "outputs": [
        {
          "output_type": "stream",
          "name": "stdout",
          "text": [
            "Liz\n",
            "5.5\n",
            "------------------------\n",
            "Josué\n",
            "2.0\n",
            "------------------------\n",
            "Eliza\n",
            "1.0\n",
            "------------------------\n",
            "maria\n",
            "1.0\n",
            "------------------------\n"
          ]
        }
      ]
    }
  ]
}