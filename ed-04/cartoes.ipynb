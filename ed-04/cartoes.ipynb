{
  "nbformat": 4,
  "nbformat_minor": 0,
  "metadata": {
    "colab": {
      "provenance": []
    },
    "kernelspec": {
      "name": "python3",
      "display_name": "Python 3"
    },
    "language_info": {
      "name": "python"
    }
  },
  "cells": [
    {
      "cell_type": "code",
      "execution_count": 89,
      "metadata": {
        "id": "ivv07uvJZpmb"
      },
      "outputs": [],
      "source": [
        "# Importa a biblioteca para criação de classes de dados\n",
        "from dataclasses import dataclass\n",
        "\n",
        "# Importação dos tipos de dados para o type hint\n",
        "from typing import Callable\n",
        "\n",
        "# Importação da biblioteca de números aleatórios\n",
        "from random import randint\n",
        "from random import sample\n",
        "from random import random\n",
        "\n",
        "# Importação da biblioteca de impressão bonita\n",
        "from pprint import pprint\n",
        "\n",
        "# Importação da biblioteca de cópia\n",
        "from copy import deepcopy"
      ]
    },
    {
      "cell_type": "code",
      "source": [
        "@dataclass\n",
        "class Cromossomo:\n",
        "    dados: list[int]\n",
        "    fitness: float = 0"
      ],
      "metadata": {
        "id": "-5oYzPVvZt9f"
      },
      "execution_count": 90,
      "outputs": []
    },
    {
      "cell_type": "code",
      "source": [
        "@dataclass\n",
        "class Config:\n",
        "    tam_cromossomo: int\n",
        "    tam_populacao: int\n",
        "\n",
        "    max_iteracoes: int\n",
        "    max_congelamento : int\n",
        "\n",
        "    fitness: Callable[[Cromossomo], float]\n",
        "\n",
        "    selecionar_pais: Callable[[list[Cromossomo]], list[tuple[Cromossomo, Cromossomo]]]\n",
        "\n",
        "    aplicar_cruzamento: Callable[[list[tuple[Cromossomo, Cromossomo]]], list[Cromossomo]]\n",
        "    aplicar_mutacao: Callable[[list[Cromossomo], float], None]\n",
        "    taxa_mutacao: float\n",
        "\n",
        "    selecionar_sobreviventes: Callable[[list[Cromossomo]], list[Cromossomo]]"
      ],
      "metadata": {
        "id": "plx6FemAZwzG"
      },
      "execution_count": 91,
      "outputs": []
    },
    {
      "cell_type": "code",
      "source": [
        "def inicializar_populacao(tam_populacao, tam_cromossomo) -> list[Cromossomo]:\n",
        "    P0 = []\n",
        "    for i in range(tam_populacao):\n",
        "        cromossomo = Cromossomo([randint(0, 1) for j in range(tam_cromossomo)])\n",
        "        P0.append(cromossomo)\n",
        "    return P0"
      ],
      "metadata": {
        "id": "CkSq68WTZyhF"
      },
      "execution_count": 92,
      "outputs": []
    },
    {
      "cell_type": "code",
      "source": [
        "# Seleção por torneio - com reposição\n",
        "# - Seleciona k pais e o tiver melhor fitness é selecionado para formar casal\n",
        "def torneio(populacao: list[Cromossomo], tam_torneio: int = 3) -> list[tuple[Cromossomo, Cromossomo]]:\n",
        "    casais = []\n",
        "\n",
        "    for i in range(len(populacao) // 2):\n",
        "\n",
        "        torneio1 = sample(populacao, tam_torneio * 2)\n",
        "        pai1 = sorted(torneio1, key=lambda x: x.fitness, reverse=True)[0]\n",
        "\n",
        "        torneio2 = sample(populacao, tam_torneio)\n",
        "        pai2 = sorted(torneio2, key=lambda x: x.fitness, reverse=True)[0]\n",
        "\n",
        "        # TODO: evitar que o selecionado no pai1 seja selecionado como pai2\n",
        "\n",
        "        casais.append((pai1, pai2))\n",
        "\n",
        "    return casais"
      ],
      "metadata": {
        "id": "SDFM5LGbZz_x"
      },
      "execution_count": 93,
      "outputs": []
    },
    {
      "cell_type": "code",
      "source": [
        "def crossover_1_corte(casais):\n",
        "    filhos = []\n",
        "\n",
        "    for par in casais:\n",
        "\n",
        "        # Desempacota os pais\n",
        "        pai1 = par[0].dados\n",
        "        pai2 = par[1].dados\n",
        "\n",
        "        # Sorteia o ponto de corte\n",
        "        corte = randint(1, len(pai1) - 1)\n",
        "\n",
        "        filho1 = pai1[:corte] + pai2[corte:]\n",
        "        filho2 = pai2[:corte] + pai1[corte:]\n",
        "\n",
        "        filhos.append(Cromossomo(filho1))\n",
        "        filhos.append(Cromossomo(filho2))\n",
        "\n",
        "    return filhos"
      ],
      "metadata": {
        "id": "VhzZcA5zZ1eD"
      },
      "execution_count": 94,
      "outputs": []
    },
    {
      "cell_type": "code",
      "source": [
        "def mutacao(cromossomos: list[Cromossomo], taxa_mutacao: float):\n",
        "    for cromossomo in cromossomos:\n",
        "        for i, c in enumerate(cromossomo.dados):\n",
        "            if random() < taxa_mutacao:\n",
        "                if c == 1:\n",
        "                    cromossomo.dados[i] = 0\n",
        "                else:\n",
        "                    cromossomo.dados[i] = 1"
      ],
      "metadata": {
        "id": "dIz8oiZIZ3Y9"
      },
      "execution_count": 95,
      "outputs": []
    },
    {
      "cell_type": "code",
      "source": [
        "def elitismo(populacao):\n",
        "    populacao.sort(key=lambda x: x.fitness, reverse=True)\n",
        "    return populacao[:len(populacao)//2]"
      ],
      "metadata": {
        "id": "hcdH9lqrZ5A4"
      },
      "execution_count": 96,
      "outputs": []
    },
    {
      "cell_type": "code",
      "source": [
        "def algoritmo_genetico(config: Config) -> list[int]:\n",
        "    \"\"\"\n",
        "    Implementação do algoritmo genético clássico.\n",
        "\n",
        "    Arguments:\n",
        "        config: Parâmetros de configuração do AG.\n",
        "    \"\"\"\n",
        "\n",
        "    # 1. t = 0\n",
        "    t = 0\n",
        "\n",
        "    # 2. Inicializar a população inicial P_0\n",
        "    P = inicializar_populacao(config.tam_populacao, config.tam_cromossomo)\n",
        "\n",
        "    # a. Avaliar a população(Pt)\n",
        "    for c in P:\n",
        "        c.fitness = config.fitness(c)\n",
        "\n",
        "    # Salva o melhor indivíduo\n",
        "    P.sort(key=lambda x: x.fitness, reverse=True)\n",
        "\n",
        "    melhor_individuo = deepcopy(P[0])\n",
        "    cont_congelamento = 0\n",
        "\n",
        "\n",
        "    # 3. Enquanto critério de parada == falso\n",
        "    terminou = False\n",
        "    while (t < config.max_iteracoes\n",
        "               and cont_congelamento < config.max_congelamento):\n",
        "\n",
        "        # b. P' = Selecionar pais(Pt)\n",
        "        casais = config.selecionar_pais(P)\n",
        "\n",
        "        # c. F = Aplicar recombinação e mutação(P')\n",
        "        F = config.aplicar_cruzamento(casais)\n",
        "        config.aplicar_mutacao(F, config.taxa_mutacao)\n",
        "\n",
        "        # d. Avaliar a população(F)\n",
        "        for c in F:\n",
        "            c.fitness = config.fitness(c)\n",
        "\n",
        "        # e. Pt+1 = Selecionar sobreviventes(Pt + F)\n",
        "        P = config.selecionar_sobreviventes(P + F)\n",
        "\n",
        "        # Salva o melhor indivíduo\n",
        "        P.sort(key=lambda x: x.fitness, reverse=True)\n",
        "\n",
        "        if P[0].fitness > melhor_individuo.fitness:\n",
        "            melhor_individuo = deepcopy(P[0])\n",
        "            cont_congelamento = 0\n",
        "        else:\n",
        "            cont_congelamento += 1\n",
        "\n",
        "        print(f'{t:04d} - {melhor_individuo.fitness} - {melhor_individuo.dados}')\n",
        "\n",
        "        # f. t = t + 1\n",
        "        t = t + 1\n",
        "\n",
        "    return melhor_individuo"
      ],
      "metadata": {
        "id": "sLnaVU9jZ6Wm"
      },
      "execution_count": 97,
      "outputs": []
    },
    {
      "cell_type": "code",
      "source": [
        "# Problema de maximizar a quantidade de 1s no vetor\n",
        "\n",
        "def maximizar_1s(cromossomo: Cromossomo) -> int:\n",
        "    \"\"\"\n",
        "    Função de avaliação do problema. É nessa função que o cromossomo é interpretado\n",
        "    para calcular a aptidão e verificar se está atingindo o objetivo.\n",
        "    \"\"\"\n",
        "    return sum(cromossomo.dados)\n",
        "\n"
      ],
      "metadata": {
        "id": "OrjSiGpSZ8Ie"
      },
      "execution_count": 98,
      "outputs": []
    },
    {
      "cell_type": "code",
      "source": [
        "cartoes = (1,2,3,4,5,6,7,8,9,10)\n",
        "\n",
        "MAX_PILHA1 = 36\n",
        "MAX_PILHA2 = 360\n",
        "VALOR_CHAVE = 396\n",
        "\n",
        "#0 -> Pilha 1//1 -> Pilha 2 se soma + produto for 396 significa que esta certo\n",
        "def fitness_cartao(cromossomo: Cromossomo) -> float:\n",
        "  soma = 0\n",
        "  produto = 1\n",
        "  for i in range(10):\n",
        "    if cromossomo.dados[i] == 1:\n",
        "      produto *= cartoes[i]\n",
        "    else:\n",
        "      soma += cartoes[i]\n",
        "\n",
        "  if produto > MAX_PILHA2 or soma > MAX_PILHA1 or produto + soma > VALOR_CHAVE:\n",
        "    return -1\n",
        "\n",
        "  return produto + soma\n"
      ],
      "metadata": {
        "id": "TT4s0RA_ck5l"
      },
      "execution_count": 110,
      "outputs": []
    },
    {
      "cell_type": "code",
      "source": [
        "# Parâmetros de configuração do AG\n",
        "config = Config(\n",
        "    tam_cromossomo=10,\n",
        "    tam_populacao=1000,\n",
        "\n",
        "    max_iteracoes=1000,\n",
        "    max_congelamento=100,\n",
        "\n",
        "    fitness=fitness_cartao,\n",
        "\n",
        "    taxa_mutacao=0.05,\n",
        "\n",
        "    selecionar_pais=torneio,\n",
        "\n",
        "    aplicar_cruzamento=crossover_1_corte,\n",
        "    aplicar_mutacao=mutacao,\n",
        "    selecionar_sobreviventes=elitismo,\n",
        ")\n",
        "\n",
        "# Execução do algoritmo genético\n",
        "solucao = algoritmo_genetico(config)"
      ],
      "metadata": {
        "colab": {
          "base_uri": "https://localhost:8080/"
        },
        "id": "65tckg4GZ-T3",
        "outputId": "097ab103-5504-45fe-9512-c0d4d3cf9ec4"
      },
      "execution_count": 109,
      "outputs": [
        {
          "output_type": "stream",
          "name": "stdout",
          "text": [
            "0000 - 396 - [1, 0, 1, 1, 1, 1, 0, 0, 0, 0]\n",
            "0001 - 396 - [1, 0, 1, 1, 1, 1, 0, 0, 0, 0]\n",
            "0002 - 396 - [1, 0, 1, 1, 1, 1, 0, 0, 0, 0]\n",
            "0003 - 396 - [1, 0, 1, 1, 1, 1, 0, 0, 0, 0]\n",
            "0004 - 396 - [1, 0, 1, 1, 1, 1, 0, 0, 0, 0]\n",
            "0005 - 396 - [1, 0, 1, 1, 1, 1, 0, 0, 0, 0]\n",
            "0006 - 396 - [1, 0, 1, 1, 1, 1, 0, 0, 0, 0]\n",
            "0007 - 396 - [1, 0, 1, 1, 1, 1, 0, 0, 0, 0]\n",
            "0008 - 396 - [1, 0, 1, 1, 1, 1, 0, 0, 0, 0]\n",
            "0009 - 396 - [1, 0, 1, 1, 1, 1, 0, 0, 0, 0]\n",
            "0010 - 396 - [1, 0, 1, 1, 1, 1, 0, 0, 0, 0]\n",
            "0011 - 396 - [1, 0, 1, 1, 1, 1, 0, 0, 0, 0]\n",
            "0012 - 396 - [1, 0, 1, 1, 1, 1, 0, 0, 0, 0]\n",
            "0013 - 396 - [1, 0, 1, 1, 1, 1, 0, 0, 0, 0]\n",
            "0014 - 396 - [1, 0, 1, 1, 1, 1, 0, 0, 0, 0]\n",
            "0015 - 396 - [1, 0, 1, 1, 1, 1, 0, 0, 0, 0]\n",
            "0016 - 396 - [1, 0, 1, 1, 1, 1, 0, 0, 0, 0]\n",
            "0017 - 396 - [1, 0, 1, 1, 1, 1, 0, 0, 0, 0]\n",
            "0018 - 396 - [1, 0, 1, 1, 1, 1, 0, 0, 0, 0]\n",
            "0019 - 396 - [1, 0, 1, 1, 1, 1, 0, 0, 0, 0]\n",
            "0020 - 396 - [1, 0, 1, 1, 1, 1, 0, 0, 0, 0]\n",
            "0021 - 396 - [1, 0, 1, 1, 1, 1, 0, 0, 0, 0]\n",
            "0022 - 396 - [1, 0, 1, 1, 1, 1, 0, 0, 0, 0]\n",
            "0023 - 396 - [1, 0, 1, 1, 1, 1, 0, 0, 0, 0]\n",
            "0024 - 396 - [1, 0, 1, 1, 1, 1, 0, 0, 0, 0]\n",
            "0025 - 396 - [1, 0, 1, 1, 1, 1, 0, 0, 0, 0]\n",
            "0026 - 396 - [1, 0, 1, 1, 1, 1, 0, 0, 0, 0]\n",
            "0027 - 396 - [1, 0, 1, 1, 1, 1, 0, 0, 0, 0]\n",
            "0028 - 396 - [1, 0, 1, 1, 1, 1, 0, 0, 0, 0]\n",
            "0029 - 396 - [1, 0, 1, 1, 1, 1, 0, 0, 0, 0]\n",
            "0030 - 396 - [1, 0, 1, 1, 1, 1, 0, 0, 0, 0]\n",
            "0031 - 396 - [1, 0, 1, 1, 1, 1, 0, 0, 0, 0]\n",
            "0032 - 396 - [1, 0, 1, 1, 1, 1, 0, 0, 0, 0]\n",
            "0033 - 396 - [1, 0, 1, 1, 1, 1, 0, 0, 0, 0]\n",
            "0034 - 396 - [1, 0, 1, 1, 1, 1, 0, 0, 0, 0]\n",
            "0035 - 396 - [1, 0, 1, 1, 1, 1, 0, 0, 0, 0]\n",
            "0036 - 396 - [1, 0, 1, 1, 1, 1, 0, 0, 0, 0]\n",
            "0037 - 396 - [1, 0, 1, 1, 1, 1, 0, 0, 0, 0]\n",
            "0038 - 396 - [1, 0, 1, 1, 1, 1, 0, 0, 0, 0]\n",
            "0039 - 396 - [1, 0, 1, 1, 1, 1, 0, 0, 0, 0]\n",
            "0040 - 396 - [1, 0, 1, 1, 1, 1, 0, 0, 0, 0]\n",
            "0041 - 396 - [1, 0, 1, 1, 1, 1, 0, 0, 0, 0]\n",
            "0042 - 396 - [1, 0, 1, 1, 1, 1, 0, 0, 0, 0]\n",
            "0043 - 396 - [1, 0, 1, 1, 1, 1, 0, 0, 0, 0]\n",
            "0044 - 396 - [1, 0, 1, 1, 1, 1, 0, 0, 0, 0]\n",
            "0045 - 396 - [1, 0, 1, 1, 1, 1, 0, 0, 0, 0]\n",
            "0046 - 396 - [1, 0, 1, 1, 1, 1, 0, 0, 0, 0]\n",
            "0047 - 396 - [1, 0, 1, 1, 1, 1, 0, 0, 0, 0]\n",
            "0048 - 396 - [1, 0, 1, 1, 1, 1, 0, 0, 0, 0]\n",
            "0049 - 396 - [1, 0, 1, 1, 1, 1, 0, 0, 0, 0]\n",
            "0050 - 396 - [1, 0, 1, 1, 1, 1, 0, 0, 0, 0]\n",
            "0051 - 396 - [1, 0, 1, 1, 1, 1, 0, 0, 0, 0]\n",
            "0052 - 396 - [1, 0, 1, 1, 1, 1, 0, 0, 0, 0]\n",
            "0053 - 396 - [1, 0, 1, 1, 1, 1, 0, 0, 0, 0]\n",
            "0054 - 396 - [1, 0, 1, 1, 1, 1, 0, 0, 0, 0]\n",
            "0055 - 396 - [1, 0, 1, 1, 1, 1, 0, 0, 0, 0]\n",
            "0056 - 396 - [1, 0, 1, 1, 1, 1, 0, 0, 0, 0]\n",
            "0057 - 396 - [1, 0, 1, 1, 1, 1, 0, 0, 0, 0]\n",
            "0058 - 396 - [1, 0, 1, 1, 1, 1, 0, 0, 0, 0]\n",
            "0059 - 396 - [1, 0, 1, 1, 1, 1, 0, 0, 0, 0]\n",
            "0060 - 396 - [1, 0, 1, 1, 1, 1, 0, 0, 0, 0]\n",
            "0061 - 396 - [1, 0, 1, 1, 1, 1, 0, 0, 0, 0]\n",
            "0062 - 396 - [1, 0, 1, 1, 1, 1, 0, 0, 0, 0]\n",
            "0063 - 396 - [1, 0, 1, 1, 1, 1, 0, 0, 0, 0]\n",
            "0064 - 396 - [1, 0, 1, 1, 1, 1, 0, 0, 0, 0]\n",
            "0065 - 396 - [1, 0, 1, 1, 1, 1, 0, 0, 0, 0]\n",
            "0066 - 396 - [1, 0, 1, 1, 1, 1, 0, 0, 0, 0]\n",
            "0067 - 396 - [1, 0, 1, 1, 1, 1, 0, 0, 0, 0]\n",
            "0068 - 396 - [1, 0, 1, 1, 1, 1, 0, 0, 0, 0]\n",
            "0069 - 396 - [1, 0, 1, 1, 1, 1, 0, 0, 0, 0]\n",
            "0070 - 396 - [1, 0, 1, 1, 1, 1, 0, 0, 0, 0]\n",
            "0071 - 396 - [1, 0, 1, 1, 1, 1, 0, 0, 0, 0]\n",
            "0072 - 396 - [1, 0, 1, 1, 1, 1, 0, 0, 0, 0]\n",
            "0073 - 396 - [1, 0, 1, 1, 1, 1, 0, 0, 0, 0]\n",
            "0074 - 396 - [1, 0, 1, 1, 1, 1, 0, 0, 0, 0]\n",
            "0075 - 396 - [1, 0, 1, 1, 1, 1, 0, 0, 0, 0]\n",
            "0076 - 396 - [1, 0, 1, 1, 1, 1, 0, 0, 0, 0]\n",
            "0077 - 396 - [1, 0, 1, 1, 1, 1, 0, 0, 0, 0]\n",
            "0078 - 396 - [1, 0, 1, 1, 1, 1, 0, 0, 0, 0]\n",
            "0079 - 396 - [1, 0, 1, 1, 1, 1, 0, 0, 0, 0]\n",
            "0080 - 396 - [1, 0, 1, 1, 1, 1, 0, 0, 0, 0]\n",
            "0081 - 396 - [1, 0, 1, 1, 1, 1, 0, 0, 0, 0]\n",
            "0082 - 396 - [1, 0, 1, 1, 1, 1, 0, 0, 0, 0]\n",
            "0083 - 396 - [1, 0, 1, 1, 1, 1, 0, 0, 0, 0]\n",
            "0084 - 396 - [1, 0, 1, 1, 1, 1, 0, 0, 0, 0]\n",
            "0085 - 396 - [1, 0, 1, 1, 1, 1, 0, 0, 0, 0]\n",
            "0086 - 396 - [1, 0, 1, 1, 1, 1, 0, 0, 0, 0]\n",
            "0087 - 396 - [1, 0, 1, 1, 1, 1, 0, 0, 0, 0]\n",
            "0088 - 396 - [1, 0, 1, 1, 1, 1, 0, 0, 0, 0]\n",
            "0089 - 396 - [1, 0, 1, 1, 1, 1, 0, 0, 0, 0]\n",
            "0090 - 396 - [1, 0, 1, 1, 1, 1, 0, 0, 0, 0]\n",
            "0091 - 396 - [1, 0, 1, 1, 1, 1, 0, 0, 0, 0]\n",
            "0092 - 396 - [1, 0, 1, 1, 1, 1, 0, 0, 0, 0]\n",
            "0093 - 396 - [1, 0, 1, 1, 1, 1, 0, 0, 0, 0]\n",
            "0094 - 396 - [1, 0, 1, 1, 1, 1, 0, 0, 0, 0]\n",
            "0095 - 396 - [1, 0, 1, 1, 1, 1, 0, 0, 0, 0]\n",
            "0096 - 396 - [1, 0, 1, 1, 1, 1, 0, 0, 0, 0]\n",
            "0097 - 396 - [1, 0, 1, 1, 1, 1, 0, 0, 0, 0]\n",
            "0098 - 396 - [1, 0, 1, 1, 1, 1, 0, 0, 0, 0]\n",
            "0099 - 396 - [1, 0, 1, 1, 1, 1, 0, 0, 0, 0]\n"
          ]
        }
      ]
    }
  ]
}