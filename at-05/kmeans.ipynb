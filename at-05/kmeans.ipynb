{
  "nbformat": 4,
  "nbformat_minor": 0,
  "metadata": {
    "colab": {
      "provenance": []
    },
    "kernelspec": {
      "name": "python3",
      "display_name": "Python 3"
    },
    "language_info": {
      "name": "python"
    }
  },
  "cells": [
    {
      "cell_type": "markdown",
      "source": [
        "Configurações"
      ],
      "metadata": {
        "id": "ASME9v8AMuow"
      }
    },
    {
      "cell_type": "code",
      "execution_count": 44,
      "metadata": {
        "colab": {
          "base_uri": "https://localhost:8080/"
        },
        "id": "e53hLWGXFlkm",
        "outputId": "477e481c-3c7a-4a6a-b9d7-d31a9ed9b5a5"
      },
      "outputs": [
        {
          "output_type": "stream",
          "name": "stdout",
          "text": [
            "centroides iniciais\n",
            "[[ 5 10]\n",
            " [25 20]]\n"
          ]
        }
      ],
      "source": [
        "import numpy as np\n",
        "import matplotlib.pyplot as plt\n",
        "from sklearn.cluster import KMeans\n",
        "\n",
        "# Dados fornecidos\n",
        "dados = {\n",
        "    'T': ['T1', 'T2', 'T3', 'T4', 'T5', 'T6', 'T7', 'T8'],\n",
        "    'Temperatura': [10, 8, 6, 5, 20, 22, 23, 18],\n",
        "    'Umidade': [20, 13, 15, 11, 26, 26, 27, 23],\n",
        "    'Flor': [1, 0, 1, 1, 0, 0, 1, 0]\n",
        "}\n",
        "\n",
        "# Coordenadas dos centroides\n",
        "c1 = np.array([5, 10])\n",
        "c2 = np.array([25, 20])\n",
        "centroides_iniciais = np.array([c1, c2])\n",
        "print(\"centroides iniciais\")\n",
        "print(centroides_iniciais)"
      ]
    },
    {
      "cell_type": "markdown",
      "source": [
        "Treina e calcula as centroides"
      ],
      "metadata": {
        "id": "eDLZBVLbMyGI"
      }
    },
    {
      "cell_type": "code",
      "source": [
        "# Criar uma matriz de características apenas com 'Temperatura' e 'Umidade'\n",
        "X = np.array(list(zip(dados['Temperatura'], dados['Umidade'])))\n",
        "\n",
        "# Inicializar o modelo K-Means com 2 clusters e os centroides iniciais\n",
        "kmeans = KMeans(n_clusters=2, init=centroides_iniciais, n_init=1)\n",
        "\n",
        "# Treinar o modelo\n",
        "kmeans.fit(X)\n",
        "\n",
        "# Obter as centroides finais\n",
        "centroides_finais = kmeans.cluster_centers_\n",
        "\n",
        "# Atribuir cada ponto ao cluster mais próximo\n",
        "clusters = kmeans.labels_\n",
        "print(\"centroides finais\")\n",
        "print(centroides_finais)"
      ],
      "metadata": {
        "colab": {
          "base_uri": "https://localhost:8080/"
        },
        "id": "deUxuqDuMp6b",
        "outputId": "ff22a2f4-d68d-48eb-87ea-a25557095f78"
      },
      "execution_count": 42,
      "outputs": [
        {
          "output_type": "stream",
          "name": "stdout",
          "text": [
            "centroides finais\n",
            "[[ 7.25 14.75]\n",
            " [20.75 25.5 ]]\n"
          ]
        }
      ]
    },
    {
      "cell_type": "markdown",
      "source": [
        "Exibe o plano"
      ],
      "metadata": {
        "id": "HF9kiTy8NDE4"
      }
    },
    {
      "cell_type": "code",
      "source": [
        "# Plotar os resultados\n",
        "plt.figure(figsize=(8, 6))\n",
        "\n",
        "# Adicionar pontos de treino ao gráfico\n",
        "for i, ponto in enumerate(dados['T']):\n",
        "    cor = 'red' if clusters[i] == 1 else 'blue'\n",
        "    label = 'Flor 1' if dados['Flor'][i] == 1 else 'Flor 0'\n",
        "    plt.scatter(dados['Temperatura'][i], dados['Umidade'][i], c=cor, marker='o', label=label, alpha=0.5)\n",
        "\n",
        "# Adicionar as centroides finais ao gráfico com legendas nomeadas\n",
        "plt.scatter(centroides_finais[:, 0], centroides_finais[:, 1], c=['red', 'blue'], marker='x', s=200, label='Centroide Flor 1')\n",
        "plt.scatter(centroides_finais[:, 0], centroides_finais[:, 1], c=['blue', 'red'], marker='x', s=200, label='Centroide Flor 0')\n",
        "\n",
        "# Adicionar apenas duas legendas\n",
        "handles, labels = plt.gca().get_legend_handles_labels()\n",
        "by_label = dict(zip(labels, handles))\n",
        "plt.legend(by_label.values(), by_label.keys())\n",
        "\n",
        "plt.xlabel('Temperatura')\n",
        "plt.ylabel('Umidade')\n",
        "plt.title('Flor')\n",
        "plt.show()"
      ],
      "metadata": {
        "colab": {
          "base_uri": "https://localhost:8080/",
          "height": 564
        },
        "id": "ek7FL_7gNCHx",
        "outputId": "298415fc-84ff-4f67-9f37-980c8590c9d4"
      },
      "execution_count": 46,
      "outputs": [
        {
          "output_type": "display_data",
          "data": {
            "text/plain": [
              "<Figure size 800x600 with 1 Axes>"
            ],
            "image/png": "[encoded data removed]"
          },
          "metadata": {}
        }
      ]
    }
  ]
}